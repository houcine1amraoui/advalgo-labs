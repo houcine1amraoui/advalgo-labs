{
 "cells": [
  {
   "cell_type": "markdown",
   "id": "aeade2c5",
   "metadata": {
    "deletable": false,
    "editable": false,
    "tags": []
   },
   "source": [
    "# Lab 1 - Python Primer"
   ]
  },
  {
   "cell_type": "markdown",
   "id": "d53c8dff",
   "metadata": {
    "deletable": false,
    "editable": false,
    "tags": []
   },
   "source": [
    "## 1. Exercise 1: First Steps"
   ]
  },
  {
   "cell_type": "markdown",
   "id": "749005b8",
   "metadata": {
    "tags": []
   },
   "source": [
    "### <font color='red'>Question 1.1: What does the function \"print\" do?"
   ]
  },
  {
   "cell_type": "code",
   "execution_count": 1,
   "id": "6a02a32b",
   "metadata": {},
   "outputs": [
    {
     "name": "stdout",
     "output_type": "stream",
     "text": [
      "Mohamed is 24\n"
     ]
    }
   ],
   "source": [
    "name = 'Mohamed is'\n",
    "age = 24\n",
    "print(name, age)"
   ]
  },
  {
   "cell_type": "markdown",
   "id": "ee7f3849",
   "metadata": {},
   "source": [
    "#### <font color='green'>Answer 1.1: the function \"print\" outputs a variable to the console </font>"
   ]
  },
  {
   "cell_type": "markdown",
   "id": "302ddd8e",
   "metadata": {},
   "source": [
    "###  <font color='red'>Question 1.2: What does the function \"input\" do?"
   ]
  },
  {
   "cell_type": "code",
   "execution_count": 2,
   "id": "62dd5f88",
   "metadata": {},
   "outputs": [
    {
     "name": "stdout",
     "output_type": "stream",
     "text": [
      "Enter your name : Mohamed\n",
      "Enter your age : 24\n",
      "Mohamed\n",
      "24\n"
     ]
    }
   ],
   "source": [
    "name = input('Enter your name : ')\n",
    "age = input('Enter your age : ')\n",
    "print(name)\n",
    "print(age)"
   ]
  },
  {
   "cell_type": "markdown",
   "id": "1d19ced2",
   "metadata": {},
   "source": [
    "#### <font color='green'>Answer 1.2: the function \"input\" reads a string value from the keyboard </font>"
   ]
  },
  {
   "cell_type": "markdown",
   "id": "4d7cb144",
   "metadata": {},
   "source": [
    "### <font color='red'>Question 1.3: Given the following assigned variables \"a\" \"\" \"\":\n",
    "<br>\n",
    "<li> 1. Sum up \"a\" and \"b\" int a third variable called \"c\".\n",
    "<li> 2. Increment \"a\" by 1.\n",
    "<li> 3. Multiply \"b\" by 2\n",
    "<li> 4. Divide \"c\" by 5 (real division)\n",
    "<li> 5. Divide \"c\" by 2 (integer division)\n",
    "<li> 6. Assign the remainder of \"a\" divided by \"b\" into a third variable called \"d\"\n",
    "<li> 7. Print the values of \"a\", \"b\", \"c\", and \"d\" to the console.\n",
    "</font>"
   ]
  },
  {
   "cell_type": "code",
   "execution_count": 3,
   "id": "7b83b15f",
   "metadata": {},
   "outputs": [],
   "source": [
    "a = 12\n",
    "b = 2"
   ]
  },
  {
   "cell_type": "code",
   "execution_count": 4,
   "id": "cf0ee229",
   "metadata": {},
   "outputs": [
    {
     "name": "stdout",
     "output_type": "stream",
     "text": [
      "13\n",
      "4\n",
      "1.0\n",
      "1\n"
     ]
    }
   ],
   "source": [
    "### put your code here ...\n",
    "c = a + b\n",
    "a += 1 # equivalent to a = a + 1\n",
    "b *= 2 # equivalent to b = b * 2\n",
    "c /= 5 # equivalent to c = c / 5 (real division)\n",
    "c //= 2 # equivalent to c = c // 5 (integer division)\n",
    "d = a % b # modulus\n",
    "\n",
    "print(a)\n",
    "print(b)\n",
    "print(c)\n",
    "print(d)"
   ]
  },
  {
   "cell_type": "markdown",
   "id": "3b74e1f6",
   "metadata": {},
   "source": [
    "### <font color='red'>Question 1.4: Using the \"type\" function, determines the type of each variables in the following:"
   ]
  },
  {
   "cell_type": "code",
   "execution_count": 5,
   "id": "17ef16c4",
   "metadata": {},
   "outputs": [],
   "source": [
    "name = \"Omar\"   \n",
    "letter = \"a\"    \n",
    "age = 25        \n",
    "height = 1.75   \n",
    "accepted = True"
   ]
  },
  {
   "cell_type": "code",
   "execution_count": 6,
   "id": "895dbcd7",
   "metadata": {},
   "outputs": [
    {
     "name": "stdout",
     "output_type": "stream",
     "text": [
      "<class 'str'>   <class 'str'>   <class 'int'>   <class 'float'>   <class 'bool'>\n"
     ]
    }
   ],
   "source": [
    "### put your code here ...\n",
    "# Python is dynamically typed\n",
    "name = \"Omar\"    # str \n",
    "letter = \"a\"    # no char type, a chracter is a string with size of 1\n",
    "age = 25        # int\n",
    "height = 1.75   # float\n",
    "accepted = True # bool\n",
    "print(type(name), ' ', type(letter), ' ', type(age), ' ', type(height), ' ', type(accepted))"
   ]
  },
  {
   "cell_type": "markdown",
   "id": "7742b9e0",
   "metadata": {},
   "source": [
    "### <font color='red'>Question 1.5: What does the function .format() and f'' do?"
   ]
  },
  {
   "cell_type": "code",
   "execution_count": 7,
   "id": "562587eb",
   "metadata": {},
   "outputs": [
    {
     "name": "stdout",
     "output_type": "stream",
     "text": [
      "What is your first name?Mohamed\n",
      "What is your family name?Amine\n",
      "Hello, Mohamed Amine\n",
      "Hello, Mohamed Amine\n"
     ]
    }
   ],
   "source": [
    "first_name = input(\"What is your first name?\")\n",
    "family_name = input(\"What is your family name?\")\n",
    "print('Hello, {} {}'.format(first_name, family_name))\n",
    "print(f'Hello, {first_name} {family_name}')"
   ]
  },
  {
   "cell_type": "markdown",
   "id": "efb412ea",
   "metadata": {},
   "source": [
    "####  <font color='green'> Answer 1.5: .format and f\" \" insert a variable into a string"
   ]
  },
  {
   "cell_type": "markdown",
   "id": "8bbabf4f",
   "metadata": {},
   "source": [
    "## 2. Built-in Data Structures"
   ]
  },
  {
   "cell_type": "markdown",
   "id": "8e7b377e",
   "metadata": {},
   "source": [
    "### 2.1 Lists\n",
    "<br>\n",
    "<li> An ordered collection of data.\n",
    "<li> Similar to Vectors in C++ or ArrayList in Java.\n",
    "<li> Flexible as the items in a list do not need to be of the same type."
   ]
  },
  {
   "cell_type": "code",
   "execution_count": 8,
   "id": "28b5df59",
   "metadata": {},
   "outputs": [],
   "source": [
    "students = [\"Mohamed\", \"Amina\", 45, 12.5, [\"a\",\"b\",\"c\"]]"
   ]
  },
  {
   "cell_type": "markdown",
   "id": "af0c19e0",
   "metadata": {},
   "source": [
    "### <font color='red'>Question 2.1: Given the list \"students\", tell what does each one the following functions do (use the function \"print\" if necessary):\n",
    "<br>\n",
    "<li> 1. len(students)\n",
    "<li> 2. students[1]\n",
    "<li> 3. students[3]\n",
    "<li> 4. students[-1]\n",
    "<li> 5. students[-2]\n",
    "<li> 6. students[1:3]\n",
    "<li> 7. students.append(\"Fatima\")\n",
    "<li> 8. students.pop()\n",
    "<li> 9. students.insert(2,2)\n",
    "<li> 10. del students[2]"
   ]
  },
  {
   "cell_type": "code",
   "execution_count": 9,
   "id": "368cff17",
   "metadata": {},
   "outputs": [
    {
     "name": "stdout",
     "output_type": "stream",
     "text": [
      "5\n",
      "Amina\n",
      "12.5\n",
      "['a', 'b', 'c']\n",
      "12.5\n",
      "['Amina', 45]\n",
      "0\n",
      "['Mohamed', 'Amina', 45, 12.5, ['a', 'b', 'c']]\n"
     ]
    }
   ],
   "source": [
    "### put your code here\n",
    "students = [\"Mohamed\", \"Amina\", 45, 12.5, [\"a\",\"b\",\"c\"]]\n",
    "print(len(students)) # length of list\n",
    "\n",
    "print(students[1]) # second element\n",
    "print(students[3]) # fourth element\n",
    "print(students[-1]) # first elements from the last (i.e., last one)\n",
    "print(students[-2]) # second elements from the last\n",
    "print(students[1:3]) # slicing: get element from index 1 to 2 (i.e., second and third) index 3 is exclusive\n",
    "\n",
    "students.append(0) # add element at last position\n",
    "print(students.pop()) # get an element from the last\n",
    "students.insert(2,2) # insert element at index 2 (third palce)\n",
    "del students[2] # remove element by index\n",
    "print(students)"
   ]
  },
  {
   "cell_type": "markdown",
   "id": "9ed2e552",
   "metadata": {},
   "source": [
    "### 2.2 Dictionnaries\n",
    "<br>\n",
    "<li> An unordered collection of data.\n",
    "<li> Store data values like a map.\n",
    "<li> Unlike other Data Types that hold only a single value as an element, Dictionary holds the key:value pair. \n",
    "<li> Key-value is provided in the dictionary to make it more optimized. "
   ]
  },
  {
   "cell_type": "code",
   "execution_count": 10,
   "id": "17739f59",
   "metadata": {},
   "outputs": [],
   "source": [
    "students = {\"1\": \"Mohamed\", 2: \"Amina\", \"3\": \"Ali\", \"4\": \"Fatma\", \"univ\":{\"name\": \"Boudiaf\", \"city\": \"M'Sila\"}}"
   ]
  },
  {
   "cell_type": "markdown",
   "id": "ecbc8004",
   "metadata": {},
   "source": [
    "### <font color='red'>Question 2.2: Given the dictionnary \"students\", tell what does each one the following functions do (use the function \"print\" if necessary):\n",
    "<br>\n",
    "<li> 1. len(students)\n",
    "<li> 2. students.keys()\n",
    "<li> 3. students.values()\n",
    "<li> 4. students[2]\n",
    "<li> 5. students.pop(\"3\")"
   ]
  },
  {
   "cell_type": "code",
   "execution_count": 11,
   "id": "bfbdbb16",
   "metadata": {},
   "outputs": [
    {
     "name": "stdout",
     "output_type": "stream",
     "text": [
      "{'1': 'Mohamed', 2: 'Amina', '3': 'Ali', '4': 'Fatma', 'univ': {'name': 'Boudiaf', 'city': \"M'Sila\"}}\n",
      "5\n",
      "dict_keys(['1', 2, '3', '4', 'univ'])\n",
      "dict_values(['Mohamed', 'Amina', 'Ali', 'Fatma', {'name': 'Boudiaf', 'city': \"M'Sila\"}])\n",
      "Amina\n",
      "{'1': 'Mohamed', 2: 'Amina', '4': 'Fatma', 'univ': {'name': 'Boudiaf', 'city': \"M'Sila\"}}\n",
      "Boudiaf\n"
     ]
    }
   ],
   "source": [
    "### put your code here...\n",
    "students = {\"1\": \"Mohamed\", 2: \"Amina\", \"3\": \"Ali\", \"4\": \"Fatma\", \"univ\":{\"name\": \"Boudiaf\", \"city\": \"M'Sila\"}}\n",
    "print(students)\n",
    "print(len(students)) # size of dictionnary (number of elements)\n",
    "print(students.keys()) # a list containining the set of keys of the given dictionnary\n",
    "print(students.values()) # a list containing the set of values of the given dictionnary\n",
    "print(students[2]) # the element with key = 2\n",
    "students.pop(\"3\") # remove the element with key = \"\"\n",
    "print(students)\n",
    "print(students[\"univ\"][\"name\"])"
   ]
  },
  {
   "cell_type": "markdown",
   "id": "068a4c3a",
   "metadata": {},
   "source": [
    "### 2.3 Tuples\n",
    "<br>\n",
    "<li> used when data should be read-only and constant."
   ]
  },
  {
   "cell_type": "code",
   "execution_count": 12,
   "id": "f0569e5c",
   "metadata": {},
   "outputs": [],
   "source": [
    "days = ('Sunday', 'Mondat', 'Tueday', 'Wednesday', 'Tuesday', 'Friday', 'Saturday')"
   ]
  },
  {
   "cell_type": "markdown",
   "id": "ee7bc579",
   "metadata": {},
   "source": [
    "### <font color='red'>Question 2.3: Given the tuple \"days\", tell what does each one the following functions do (use the function \"print\" if necessary):\n",
    "<br>\n",
    "<li> 1. days[1]\n",
    "<li> 2. days[-1]\n",
    "<li> 3. sun, mon, tue, wed, tue, fri, sat = days"
   ]
  },
  {
   "cell_type": "code",
   "execution_count": 13,
   "id": "3cd4b82f",
   "metadata": {},
   "outputs": [
    {
     "name": "stdout",
     "output_type": "stream",
     "text": [
      "('Sunday', 'Mondat', 'Tueday', 'Wednesday', 'Tuesday', 'Friday', 'Saturday')\n",
      "Mondat\n",
      "Saturday\n",
      "Wednesday\n"
     ]
    }
   ],
   "source": [
    "### put your code here...\n",
    "days = ('Sunday', 'Mondat', 'Tueday', 'Wednesday', 'Tuesday', 'Friday', 'Saturday')\n",
    "print(days)\n",
    "print(days[1]) # the element of index = 1 (second element)\n",
    "print(days[-1]) # the first element from the last (the last element) \n",
    "sun, mon, tue, wed, tue, fri, sat = days # destruct the tuple into seven varaibles\n",
    "print(wed)"
   ]
  },
  {
   "cell_type": "markdown",
   "id": "ff8406e8",
   "metadata": {},
   "source": [
    "## 3. Control Structures"
   ]
  },
  {
   "cell_type": "markdown",
   "id": "90b8c917",
   "metadata": {},
   "source": [
    "### 3.1 If Test"
   ]
  },
  {
   "cell_type": "code",
   "execution_count": 14,
   "id": "e83346c7",
   "metadata": {},
   "outputs": [],
   "source": [
    "a = 5\n",
    "b = 7"
   ]
  },
  {
   "cell_type": "markdown",
   "id": "19a2a188",
   "metadata": {},
   "source": [
    "### <font color='red'>Question 3.1: Given the variables \"a\" and \"b\", what is the expected values (True or False) in each of the following cases?\n",
    "<br>\n",
    "<li> 1. a < b\n",
    "<li> 2. a == b\n",
    "<li> 3. b != 0\n",
    "<li> 4. (a <= b) and (a >= 0)\n",
    "<li> 5. (a > b) or (a < 0)\n",
    "<li> 6. not (b > 0)\n",
    "<li> 7. (a - b) > 0"
   ]
  },
  {
   "cell_type": "code",
   "execution_count": 15,
   "id": "f0d98458",
   "metadata": {},
   "outputs": [
    {
     "name": "stdout",
     "output_type": "stream",
     "text": [
      "True\n",
      "False\n",
      "True\n",
      "True\n",
      "False\n",
      "False\n",
      "False\n"
     ]
    }
   ],
   "source": [
    "### put your code here...\n",
    "print(a < b)                         # true\n",
    "print(a == b)                        # = for assignment == for equality testing\n",
    "print(b != 0)                        # negation\n",
    "print((a <= b) and (a >= 0))         # joining multiple tests with \"and\" operator\n",
    "print((a > b) or (a < 0))            # joining multiple tests with \"or\" operator\n",
    "print(not (b > 0))                   # test the negation\n",
    "print((a - b) > 0)                   # test the result of an expression"
   ]
  },
  {
   "cell_type": "markdown",
   "id": "636c97e7",
   "metadata": {},
   "source": [
    "### 3.2 if else condition"
   ]
  },
  {
   "cell_type": "code",
   "execution_count": 16,
   "id": "1587e76f",
   "metadata": {},
   "outputs": [],
   "source": [
    "age = 16"
   ]
  },
  {
   "cell_type": "markdown",
   "id": "1c179280",
   "metadata": {},
   "source": [
    "### <font color='red'>Question 3.2 Given the variable age = 16, use \"if else condition\" to print \"Child\" when age < 16 and \"Adult\" when age >= 16 "
   ]
  },
  {
   "cell_type": "code",
   "execution_count": 17,
   "id": "276725d4",
   "metadata": {},
   "outputs": [
    {
     "name": "stdout",
     "output_type": "stream",
     "text": [
      "Child\n"
     ]
    }
   ],
   "source": [
    "### put your code here...\n",
    "if age < 18:\n",
    "    print ('Child')\n",
    "else:\n",
    "    print ('Adult')"
   ]
  },
  {
   "cell_type": "markdown",
   "id": "af061fb5",
   "metadata": {},
   "source": [
    "### 3.3 Conditional Operator"
   ]
  },
  {
   "cell_type": "code",
   "execution_count": 1,
   "id": "18d3d254",
   "metadata": {},
   "outputs": [
    {
     "name": "stdout",
     "output_type": "stream",
     "text": [
      "10\n"
     ]
    }
   ],
   "source": [
    "# Program to demonstrate conditional operator\n",
    "a, b = 10, 20\n",
    " \n",
    "# Copy value of a in min if a < b else copy b\n",
    "min = a if a < b else b\n",
    " \n",
    "print(min)"
   ]
  },
  {
   "cell_type": "markdown",
   "id": "740cab37",
   "metadata": {},
   "source": [
    "### 3.4 For Loop"
   ]
  },
  {
   "cell_type": "markdown",
   "id": "9186edf3",
   "metadata": {},
   "source": [
    "#### Syntax:"
   ]
  },
  {
   "cell_type": "markdown",
   "id": "0de37885",
   "metadata": {},
   "source": [
    "for index in range(start,finish):\n",
    "    ...."
   ]
  },
  {
   "cell_type": "markdown",
   "id": "877f3142",
   "metadata": {},
   "source": [
    "### <font color='red'>Question 3.4.1 Given the syntax of a for loop, print the square of loop index at each iteration in the range of (0,4):"
   ]
  },
  {
   "cell_type": "code",
   "execution_count": 18,
   "id": "a260c331",
   "metadata": {},
   "outputs": [
    {
     "name": "stdout",
     "output_type": "stream",
     "text": [
      "0 squared equals 0\n",
      "1 squared equals 1\n",
      "2 squared equals 4\n",
      "3 squared equals 9\n"
     ]
    }
   ],
   "source": [
    "for i in range(4):\n",
    "    j = i*i\n",
    "    print (f'{i} squared equals {j}')"
   ]
  },
  {
   "cell_type": "markdown",
   "id": "1efdf54c",
   "metadata": {},
   "source": [
    "### <font color='red'>Question 3.4.2: Loop throught the given \"students\" list using for loop: "
   ]
  },
  {
   "cell_type": "code",
   "execution_count": 19,
   "id": "aa5896b4",
   "metadata": {},
   "outputs": [
    {
     "name": "stdout",
     "output_type": "stream",
     "text": [
      "Mohamed\n",
      "Amina\n",
      "45\n",
      "12.5\n",
      "['a', 'b', 'c']\n"
     ]
    }
   ],
   "source": [
    "# Looping throught a list using foreach\n",
    "students = [\"Mohamed\", \"Amina\", 45, 12.5, [\"a\",\"b\",\"c\"]]\n",
    "for stud in students:\n",
    "    print(stud)"
   ]
  },
  {
   "cell_type": "code",
   "execution_count": 20,
   "id": "4d836e0e",
   "metadata": {},
   "outputs": [
    {
     "name": "stdout",
     "output_type": "stream",
     "text": [
      "Mohamed\n",
      "Amina\n",
      "45\n",
      "12.5\n",
      "['a', 'b', 'c']\n"
     ]
    }
   ],
   "source": [
    "# Loop throught a list using range\n",
    "students = [\"Mohamed\", \"Amina\", 45, 12.5, [\"a\",\"b\",\"c\"]]\n",
    "for i in range(len(students)):\n",
    "    print(students[i])"
   ]
  },
  {
   "cell_type": "markdown",
   "id": "5e631286",
   "metadata": {},
   "source": [
    "### <font color='red'>Question 3.4.3: Loop throught the given \"students\" dictionnary using for loop: "
   ]
  },
  {
   "cell_type": "code",
   "execution_count": 21,
   "id": "6ac17b26",
   "metadata": {},
   "outputs": [
    {
     "name": "stdout",
     "output_type": "stream",
     "text": [
      "Mohamed\n",
      "Amina\n",
      "Ali\n",
      "Fatma\n",
      "{'name': 'Boudiaf', 'city': \"M'Sila\"}\n"
     ]
    }
   ],
   "source": [
    "# Loop throught a dictionnary using foreach\n",
    "students = {\"1\": \"Mohamed\", 2: \"Amina\", \"3\": \"Ali\", \"4\": \"Fatma\", \"univ\":{\"name\": \"Boudiaf\", \"city\": \"M'Sila\"}}\n",
    "for key in students.keys():\n",
    "    print (students[key])"
   ]
  },
  {
   "cell_type": "code",
   "execution_count": 22,
   "id": "98f23bee",
   "metadata": {},
   "outputs": [
    {
     "name": "stdout",
     "output_type": "stream",
     "text": [
      "1 Mohamed\n",
      "2 Amina\n",
      "3 Ali\n",
      "4 Fatma\n",
      "univ {'name': 'Boudiaf', 'city': \"M'Sila\"}\n"
     ]
    }
   ],
   "source": [
    "# Loop throught a dictionnary using items function\n",
    "students = {\"1\": \"Mohamed\", 2: \"Amina\", \"3\": \"Ali\", \"4\": \"Fatma\", \"univ\":{\"name\": \"Boudiaf\", \"city\": \"M'Sila\"}}\n",
    "for key, value in students.items():\n",
    "    print (key, value)"
   ]
  },
  {
   "cell_type": "markdown",
   "id": "89067a57",
   "metadata": {},
   "source": [
    "### 3.5 While Loop"
   ]
  },
  {
   "cell_type": "markdown",
   "id": "3ba650d1",
   "metadata": {},
   "source": [
    "#### Syntax:"
   ]
  },
  {
   "cell_type": "markdown",
   "id": "17ac485c",
   "metadata": {},
   "source": [
    "while index < limit:\n",
    "    ..."
   ]
  },
  {
   "cell_type": "markdown",
   "id": "54676ce8",
   "metadata": {},
   "source": [
    "### <font color='red'>Question 3.5 Given the syntax of a while loop and \"numbers\" list, print the square of each list element:"
   ]
  },
  {
   "cell_type": "code",
   "execution_count": 23,
   "id": "7f468ae4",
   "metadata": {},
   "outputs": [
    {
     "name": "stdout",
     "output_type": "stream",
     "text": [
      "9\n",
      "16\n",
      "49\n",
      "81\n",
      "100\n",
      "289\n",
      "900\n"
     ]
    }
   ],
   "source": [
    "numbers = [3, 4, 7, 9, 10, 17, 30]\n",
    "i = 0\n",
    "while i < len(numbers):\n",
    "    print(numbers[i]**2)\n",
    "    i += 1"
   ]
  },
  {
   "cell_type": "markdown",
   "id": "df787529",
   "metadata": {},
   "source": [
    "### 3.6 Loop Control "
   ]
  },
  {
   "cell_type": "markdown",
   "id": "bb8cd6e9",
   "metadata": {},
   "source": [
    "#### 3.6.1 Break: terminates the loop"
   ]
  },
  {
   "cell_type": "markdown",
   "id": "c7bf5064",
   "metadata": {},
   "source": [
    "### <font color='red'>Question 3.5.1 using \"break\" statement, break the while loop in the previous question when list element = 9:"
   ]
  },
  {
   "cell_type": "code",
   "execution_count": 24,
   "id": "f51e4527",
   "metadata": {},
   "outputs": [
    {
     "name": "stdout",
     "output_type": "stream",
     "text": [
      "9\n",
      "16\n",
      "49\n",
      "81\n"
     ]
    }
   ],
   "source": [
    "numbers = [3, 4, 7, 9, 10, 17, 30]\n",
    "i = 0\n",
    "while i < len(numbers):\n",
    "    print(numbers[i]**2)\n",
    "    if numbers[i] == 9:\n",
    "        break\n",
    "    i += 1"
   ]
  },
  {
   "cell_type": "markdown",
   "id": "648fde76",
   "metadata": {},
   "source": [
    "#### 3.6.2 Continue: forces to execute the next iteration of the loop"
   ]
  },
  {
   "cell_type": "markdown",
   "id": "89b1a5f5",
   "metadata": {},
   "source": [
    "### <font color='red'>Question 3.5.2 using \"continue\" statement, ignore printing the square value when list element = 0:"
   ]
  },
  {
   "cell_type": "code",
   "execution_count": 25,
   "id": "d772dfad",
   "metadata": {},
   "outputs": [
    {
     "name": "stdout",
     "output_type": "stream",
     "text": [
      "9\n",
      "16\n",
      "49\n",
      "100\n",
      "289\n",
      "900\n"
     ]
    }
   ],
   "source": [
    "numbers = [3, 4, 7, 9, 10, 17, 30]\n",
    "i = 0\n",
    "while i < len(numbers):\n",
    "    if numbers[i] == 9:\n",
    "        i += 1\n",
    "        continue\n",
    "    print(numbers[i]**2)\n",
    "    i += 1"
   ]
  },
  {
   "cell_type": "markdown",
   "id": "79b47e20",
   "metadata": {},
   "source": [
    "## 4. Functions"
   ]
  },
  {
   "cell_type": "markdown",
   "id": "2dd40239",
   "metadata": {},
   "source": [
    "### 4.1 Imported Functions"
   ]
  },
  {
   "cell_type": "code",
   "execution_count": 26,
   "id": "8407a6cc",
   "metadata": {},
   "outputs": [
    {
     "name": "stdout",
     "output_type": "stream",
     "text": [
      "4.0\n",
      "1.6094379124341003\n"
     ]
    }
   ],
   "source": [
    "import math as m\n",
    "print (m.sqrt(16))\n",
    "print(m.log(5))"
   ]
  },
  {
   "cell_type": "markdown",
   "id": "dec7a2cf",
   "metadata": {},
   "source": [
    "### 4.2 Syntax for Defining a Function"
   ]
  },
  {
   "cell_type": "markdown",
   "id": "f4b7f743",
   "metadata": {},
   "source": [
    "def function_name(argument1, argument2, ...):\n",
    "   ....\n",
    "   return output1, output2, ..."
   ]
  },
  {
   "cell_type": "markdown",
   "id": "cea999c2",
   "metadata": {},
   "source": [
    "### <font color='red'>Question 4.2.1 Given the syntax of a function, define a function called \"circle_area\" that returns the area of a circle \"a\" as an output, given the raduis \"r\" as an input:"
   ]
  },
  {
   "cell_type": "code",
   "execution_count": 27,
   "id": "854584fe",
   "metadata": {},
   "outputs": [],
   "source": [
    "# put your code here\n",
    "def circle_area(r):\n",
    "    a = r * r * 3.14\n",
    "    return a"
   ]
  },
  {
   "cell_type": "markdown",
   "id": "103f3cdc",
   "metadata": {},
   "source": [
    "### <font color='red'>Question 4.2.2: Run the defined function by calling it for r = 2, then print the returned area value \"a\":"
   ]
  },
  {
   "cell_type": "code",
   "execution_count": 28,
   "id": "8aac1a89",
   "metadata": {},
   "outputs": [
    {
     "name": "stdout",
     "output_type": "stream",
     "text": [
      "Circle area of raduis 2 is  12.56\n"
     ]
    }
   ],
   "source": [
    "# put your code here\n",
    "radius = 2\n",
    "area = circle_area(radius) # function call\n",
    "print(f'Circle area of raduis {2} is ', area)"
   ]
  },
  {
   "cell_type": "markdown",
   "id": "662f019e",
   "metadata": {},
   "source": [
    "### 4.3 Functions with Multiple Inputs and Outputs"
   ]
  },
  {
   "cell_type": "markdown",
   "id": "bb3bb64e",
   "metadata": {},
   "source": [
    "### <font color='red'>Question 4.3.1 define a function called \"rectangle\" that returns both \"perimeter\" and \"area\" of a reactangle as outputs, given its \"width\" and \"height\" as inputs:"
   ]
  },
  {
   "cell_type": "code",
   "execution_count": 29,
   "id": "d06d73b3",
   "metadata": {},
   "outputs": [],
   "source": [
    "# put your code here\n",
    "def rectangle(width, height):           \n",
    "    perimeter = 2 * (width + height)\n",
    "    area = width * height\n",
    "    return perimeter, area # return a tuple"
   ]
  },
  {
   "cell_type": "markdown",
   "id": "0e0ac07b",
   "metadata": {},
   "source": [
    "### <font color='red'>Question 4.3.2: Run the defined function by calling it for width=4 and height=5, then print the returned perimeter and area ouputs both as a tuple as well as separately:"
   ]
  },
  {
   "cell_type": "code",
   "execution_count": 30,
   "id": "7960f9cd",
   "metadata": {},
   "outputs": [
    {
     "name": "stdout",
     "output_type": "stream",
     "text": [
      "(10, 6) <class 'tuple'>\n",
      "Perimeter is equal to 18\n",
      "Area is equal to 20\n"
     ]
    }
   ],
   "source": [
    "# put your code here\n",
    "r = rectangle(2,3) # retrieve both outputs in one tuple\n",
    "print(r, type(r))  # a is of type tuple\n",
    "\n",
    "# put your code here\n",
    "p, a = rectangle(4,5) # retrieve outputs separately\n",
    "print(f'Perimeter is equal to {p}')\n",
    "print(f'Area is equal to {a}')"
   ]
  },
  {
   "cell_type": "markdown",
   "id": "f410f2f5",
   "metadata": {},
   "source": [
    "### 4.4 Variable Number of Arguments\n",
    "*args allows us to pass a variable number of non-keyword arguments to a Python function. \n",
    "In the function, we should use an asterisk ( * ) before the parameter name to pass a variable number of arguments."
   ]
  },
  {
   "cell_type": "markdown",
   "id": "83275209",
   "metadata": {},
   "source": [
    "We use *args as our function’s argument when we have doubts about the number of  arguments we should pass in a function.” "
   ]
  },
  {
   "cell_type": "code",
   "execution_count": 10,
   "id": "83de262e",
   "metadata": {},
   "outputs": [
    {
     "name": "stdout",
     "output_type": "stream",
     "text": [
      "2 arguments have been passed\n"
     ]
    }
   ],
   "source": [
    "def fun(*args):\n",
    "    print(f\"{len(args)} arguments have been passed\")\n",
    "\n",
    "fun(2, 3)"
   ]
  },
  {
   "cell_type": "markdown",
   "id": "d4bf5a84",
   "metadata": {},
   "source": [
    "### 4.5 Passing a function as a parameter"
   ]
  },
  {
   "cell_type": "markdown",
   "id": "223eb382",
   "metadata": {},
   "source": [
    "Since functions in python are objects (and thus have addresses), we can pass them as a parameter to another function just like any other type of parameter such as int or string)"
   ]
  },
  {
   "cell_type": "code",
   "execution_count": 11,
   "id": "4d432816",
   "metadata": {},
   "outputs": [
    {
     "name": "stdout",
     "output_type": "stream",
     "text": [
      "Hello World\n"
     ]
    }
   ],
   "source": [
    "def fun1():\n",
    "    print(\"Hello World\")\n",
    "\n",
    "# fun2 is called a higher order function since it accepts a function as a parameter\n",
    "def fun2(function):\n",
    "    function()\n",
    "\n",
    "fun2(fun1)"
   ]
  },
  {
   "cell_type": "markdown",
   "id": "f3a4eb18",
   "metadata": {},
   "source": [
    "### 4.6 Variable Scope: Local vs Global"
   ]
  },
  {
   "cell_type": "code",
   "execution_count": 37,
   "id": "d3da15b6",
   "metadata": {},
   "outputs": [
    {
     "name": "stdout",
     "output_type": "stream",
     "text": [
      "Salam, Mohamed\n"
     ]
    },
    {
     "ename": "NameError",
     "evalue": "name 'var' is not defined",
     "output_type": "error",
     "traceback": [
      "\u001b[1;31m---------------------------------------------------------------------------\u001b[0m",
      "\u001b[1;31mNameError\u001b[0m                                 Traceback (most recent call last)",
      "Cell \u001b[1;32mIn[37], line 7\u001b[0m\n\u001b[0;32m      4\u001b[0m     \u001b[38;5;28mprint\u001b[39m(\u001b[38;5;124mf\u001b[39m\u001b[38;5;124m\"\u001b[39m\u001b[38;5;124mSalam, \u001b[39m\u001b[38;5;132;01m{\u001b[39;00mname\u001b[38;5;132;01m}\u001b[39;00m\u001b[38;5;124m\"\u001b[39m)\n\u001b[0;32m      6\u001b[0m greeting()\n\u001b[1;32m----> 7\u001b[0m \u001b[38;5;28mprint\u001b[39m(\u001b[43mvar\u001b[49m)\n",
      "\u001b[1;31mNameError\u001b[0m: name 'var' is not defined"
     ]
    }
   ],
   "source": [
    "def greeting():\n",
    "    # local variable\n",
    "    var = \"Mohamed\"\n",
    "    print(f\"Salam, {name}\")\n",
    "\n",
    "greeting()\n",
    "print(var)"
   ]
  },
  {
   "cell_type": "code",
   "execution_count": 38,
   "id": "fffc2694",
   "metadata": {},
   "outputs": [
    {
     "name": "stdout",
     "output_type": "stream",
     "text": [
      "Salam, Mohamed\n",
      "Mohamed\n"
     ]
    }
   ],
   "source": [
    "def greeting():\n",
    "    # Global variable\n",
    "    global var\n",
    "    var = \"Mohamed\"\n",
    "    print(f\"Salam, {name}\")\n",
    "\n",
    "greeting()\n",
    "print(var)"
   ]
  },
  {
   "cell_type": "markdown",
   "id": "3f7b74a6",
   "metadata": {},
   "source": [
    "#### 4.7 Docstring of in-built functions"
   ]
  },
  {
   "cell_type": "code",
   "execution_count": 2,
   "id": "f4851fd3",
   "metadata": {},
   "outputs": [],
   "source": [
    "print?\n",
    "min?"
   ]
  },
  {
   "cell_type": "markdown",
   "id": "168fc450",
   "metadata": {},
   "source": [
    "### 5. Object Oriented Programming"
   ]
  },
  {
   "cell_type": "markdown",
   "id": "8972ee20",
   "metadata": {},
   "source": [
    "#### 5.3 Creating a class with:\n",
    "<br>\n",
    "<li> class attributes\n",
    "<li> instance attributes\n",
    "<li> class methods"
   ]
  },
  {
   "cell_type": "markdown",
   "id": "794d4ecc",
   "metadata": {},
   "source": [
    "class ClassName:\n",
    "\n",
    "    # class attribute\n",
    "    attribute = value\n",
    " \n",
    "    # Instance attribute\n",
    "    def __init__(self, attribute1, attribute2, ...):\n",
    "        self.attribute1 = attribute1\n",
    "        self.attribute2 = attribute2\n",
    "    \n",
    "    def method_name(self):\n",
    "        method_body"
   ]
  },
  {
   "cell_type": "markdown",
   "id": "ead1797f",
   "metadata": {},
   "source": [
    "#### 5.2 Object Instantiation"
   ]
  },
  {
   "cell_type": "markdown",
   "id": "3ed632a8",
   "metadata": {},
   "source": [
    "object_name = ClassName(attribute1, attribute2, ...)"
   ]
  },
  {
   "cell_type": "markdown",
   "id": "dbe2cfe9",
   "metadata": {},
   "source": [
    "#### 5.3 Accessing class attributes"
   ]
  },
  {
   "cell_type": "markdown",
   "id": "f40cdc8b",
   "metadata": {},
   "source": [
    "object_name.attribute_name"
   ]
  },
  {
   "cell_type": "markdown",
   "id": "35bdca2b",
   "metadata": {},
   "source": [
    "#### 5.4 Accessing class methods"
   ]
  },
  {
   "cell_type": "markdown",
   "id": "c8a0c408",
   "metadata": {},
   "source": [
    "object_name.method_name"
   ]
  },
  {
   "cell_type": "markdown",
   "id": "52deca9c",
   "metadata": {},
   "source": [
    "### <font color='red'>Question 5.1: Define a class with the given details:\n",
    "<br>\n",
    "<li> 1. class name as Dog\n",
    "<li> 2. class attribute called \"category\" with value \"mammal\"\n",
    "<li> 3. instance attribute called \"name\"\n",
    "<li> 4. class method called \"speak\" that prints the name of the dog"
   ]
  },
  {
   "cell_type": "code",
   "execution_count": 33,
   "id": "a097d7cc",
   "metadata": {},
   "outputs": [],
   "source": [
    "class Dog:\n",
    " \n",
    "    # class attribute\n",
    "    category = \"mammal\"\n",
    " \n",
    "    # Instance attribute\n",
    "    def __init__(self, name):\n",
    "        self.name = name\n",
    "         \n",
    "    def speak(self):\n",
    "        print(f\"My name is {self.name}\")"
   ]
  },
  {
   "cell_type": "markdown",
   "id": "4f26a5ef",
   "metadata": {},
   "source": [
    "### <font color='red'>Question 5.2: Create 2 objects from Dog class named \"roger\" and \"tommy\", then called the \"speak\" method for each object.\n"
   ]
  },
  {
   "cell_type": "code",
   "execution_count": 34,
   "id": "27da0601",
   "metadata": {},
   "outputs": [
    {
     "name": "stdout",
     "output_type": "stream",
     "text": [
      "My name is Rodger\n",
      "My name is Tommy\n"
     ]
    }
   ],
   "source": [
    "# Object instantiation\n",
    "rodger = Dog(\"Rodger\")\n",
    "tommy = Dog(\"Tommy\")\n",
    " \n",
    "# Accessing class methods\n",
    "rodger.speak()\n",
    "tommy.speak()"
   ]
  }
 ],
 "metadata": {
  "kernelspec": {
   "display_name": "Python 3 (ipykernel)",
   "language": "python",
   "name": "python3"
  },
  "language_info": {
   "codemirror_mode": {
    "name": "ipython",
    "version": 3
   },
   "file_extension": ".py",
   "mimetype": "text/x-python",
   "name": "python",
   "nbconvert_exporter": "python",
   "pygments_lexer": "ipython3",
   "version": "3.11.3"
  }
 },
 "nbformat": 4,
 "nbformat_minor": 5
}
